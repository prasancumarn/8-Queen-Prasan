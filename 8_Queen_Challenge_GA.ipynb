{
 "cells": [
  {
   "cell_type": "markdown",
   "metadata": {},
   "source": [
    "# 8 Queen puzzle - Python Challenge#\n",
    "The eight queens puzzle is the problem of placing eight chess queens on an 8×8 chessboard so that no two queens threaten each other; thus, a solution requires that no two queens share the same row, column, or diagonal. The eight queens puzzle is an example of the more general n queens problem of placing n non-attacking queens on an n×n chessboard. "
   ]
  },
  {
   "cell_type": "code",
   "execution_count": 2,
   "metadata": {},
   "outputs": [],
   "source": [
    "import random\n",
    "import numpy as np"
   ]
  },
  {
   "cell_type": "code",
   "execution_count": 3,
   "metadata": {},
   "outputs": [],
   "source": [
    "def random_population(size): #making random chromosomes \n",
    "    return [ random.randint(1, nq) for _ in range(nq) ]"
   ]
  },
  {
   "cell_type": "code",
   "execution_count": 4,
   "metadata": {},
   "outputs": [],
   "source": [
    "def fitness(chromosome):\n",
    "    horizontal_collisions = sum([chromosome.count(queen)-1 for queen in chromosome])/2\n",
    "    diagonal_collisions = 0\n",
    "\n",
    "    n = len(chromosome)\n",
    "    left_diagonal = [0] * 2*n\n",
    "    right_diagonal = [0] * 2*n\n",
    "    for i in range(n):\n",
    "        left_diagonal[i + chromosome[i] - 1] += 1\n",
    "        right_diagonal[len(chromosome) - i + chromosome[i] - 2] += 1\n",
    "\n",
    "    diagonal_collisions = 0\n",
    "    for i in range(2*n-1):\n",
    "        counter = 0\n",
    "        if left_diagonal[i] > 1:\n",
    "            counter += left_diagonal[i]-1\n",
    "        if right_diagonal[i] > 1:\n",
    "            counter += right_diagonal[i]-1\n",
    "        diagonal_collisions += counter / (n-abs(i-n+1))\n",
    "    \n",
    "    return int(maxFitness - (horizontal_collisions + diagonal_collisions)) #28-(2+3)=23"
   ]
  },
  {
   "cell_type": "code",
   "execution_count": 5,
   "metadata": {},
   "outputs": [],
   "source": [
    "def probability(chromosome, fitness):\n",
    "    return fitness(chromosome) / maxFitness"
   ]
  },
  {
   "cell_type": "code",
   "execution_count": 6,
   "metadata": {},
   "outputs": [],
   "source": [
    "def random_pick(population, probabilities):\n",
    "    populationWithProbabilty = zip(population, probabilities)\n",
    "    total = sum(w for c, w in populationWithProbabilty)\n",
    "    r = random.uniform(0, total)\n",
    "    upto = 0\n",
    "    for c, w in zip(population, probabilities):\n",
    "        if upto + w >= r:\n",
    "            return c\n",
    "        upto += w\n",
    "    assert False, \"Not to be here\""
   ]
  },
  {
   "cell_type": "code",
   "execution_count": 7,
   "metadata": {},
   "outputs": [],
   "source": [
    "def reproduce(x, y): #doing cross_over between two chromosomes\n",
    "    n = len(x)\n",
    "    c = random.randint(0, n - 1)\n",
    "    return x[0:c] + y[c:n]"
   ]
  },
  {
   "cell_type": "code",
   "execution_count": 8,
   "metadata": {},
   "outputs": [],
   "source": [
    "def mutate(x):  #randomly changing the value of a random index of a chromosome\n",
    "    n = len(x)\n",
    "    c = random.randint(0, n - 1)\n",
    "    m = random.randint(1, n)\n",
    "    x[c] = m\n",
    "    return x"
   ]
  },
  {
   "cell_type": "code",
   "execution_count": 9,
   "metadata": {},
   "outputs": [],
   "source": [
    "def genetic_queen(population, fitness):\n",
    "    new_population = []\n",
    "    probabilities = [probability(n, fitness) for n in population]\n",
    "    for i in range(len(population)):\n",
    "        x = random_pick(population, probabilities) #best chromosome 1\n",
    "        y = random_pick(population, probabilities) #best chromosome 2\n",
    "        child = reproduce(x, y) #creating two new chromosomes from the best 2 chromosomes\n",
    "        if random.random() < mutation_probability:\n",
    "            child = mutate(child)\n",
    "        #print_chromosome(child)\n",
    "        new_population.append(child)\n",
    "        if fitness(child) == maxFitness: break\n",
    "    return new_population"
   ]
  },
  {
   "cell_type": "code",
   "execution_count": 10,
   "metadata": {},
   "outputs": [],
   "source": [
    "def print_chromosome(chrom):\n",
    "    print(\"Chromosome = {},  Fitness = {}\".format(str(chrom), fitness(chrom)))"
   ]
  },
  {
   "cell_type": "code",
   "execution_count": 11,
   "metadata": {},
   "outputs": [],
   "source": [
    "def plot_result(size, final_chromosome):\n",
    "    chess_board = np.zeros(size**2)\n",
    "    \n",
    "    #paint every square if it's an odd side chess \n",
    "    if size%2 != 0:\n",
    "        chess_board[::2] = 1\n",
    "        \n",
    "    #reshape it into a square\n",
    "    chess_board = chess_board.reshape((size,size))\n",
    "    \n",
    "    #paint the cells if it's even side chess\n",
    "    for i in range(size):        \n",
    "        if i%2 == 0:\n",
    "            rang = range(0,size,2)\n",
    "        else:\n",
    "            rang = range(1,size,2)\n",
    "        for j in rang:\n",
    "            chess_board[i,j] = 1\n",
    "    #paint the queens\n",
    "    for i,j in enumerate(final_chromosome):\n",
    "        chess_board[i,j] = 2\n",
    "    \n",
    "    labels = range(size)    \n",
    "    plt.matshow(chess_board)\n",
    "    plt.xticks(range(size), labels)\n",
    "    plt.yticks(range(size), labels)\n",
    "    plt.title(f'best chromosome found to the {size}-queen problem')\n",
    "    plt.show()"
   ]
  },
  {
   "cell_type": "code",
   "execution_count": 15,
   "metadata": {},
   "outputs": [
    {
     "name": "stdout",
     "output_type": "stream",
     "text": [
      "Enter Number of Queens: 8\n",
      "Solved in Generation 38617!\n",
      "\n",
      "One of the solutions: \n",
      "Chromosome = [5, 2, 4, 7, 3, 8, 6, 1],  Fitness = 28\n",
      "\n",
      "x x x x x Q x x\n",
      "x x x Q x x x x\n",
      "x x x x x x Q x\n",
      "Q x x x x x x x\n",
      "x x Q x x x x x\n",
      "x x x x Q x x x\n",
      "x Q x x x x x x\n",
      "x x x x x x x Q\n"
     ]
    }
   ],
   "source": [
    "nq                   = int(input(\"Enter Number of Queens: \")) #say N = 8\n",
    "maxFitness           = (nq*(nq-1))/2  # 8*7/2 = 28\n",
    "population           = [random_population(nq) for _ in range(100)]\n",
    "mutation_probability = 0.03\n",
    "    \n",
    "generation = 1\n",
    "\n",
    "while not maxFitness in [fitness(chrom) for chrom in population]:\n",
    "    #print(\"=== Generation {} ===\".format(generation))\n",
    "    population = genetic_queen(population, fitness)\n",
    "    #print(\"Maximum Fitness = {}\".format(max([fitness(n) for n in population])))\n",
    "    generation += 1\n",
    "chrom_out = []\n",
    "print(\"Solved in Generation {}!\".format(generation-1))\n",
    "for chrom in population:\n",
    "    if fitness(chrom) == maxFitness:\n",
    "        print(\"\");\n",
    "        print(\"One of the solutions: \")\n",
    "        chrom_out = chrom\n",
    "        print_chromosome(chrom)\n",
    "           \n",
    "board = []\n",
    "\n",
    "for x in range(nq):\n",
    "    board.append([\"x\"] * nq)\n",
    "    \n",
    "        \n",
    "for i in range(nq):\n",
    "    board[nq-chrom_out[i]][i]=\"Q\"\n",
    "\n",
    "\n",
    "def print_board(board):\n",
    "    for row in board:\n",
    "        print (\" \".join(row))\n",
    "           \n",
    "print()\n",
    "print_board(board)"
   ]
  },
  {
   "cell_type": "code",
   "execution_count": 16,
   "metadata": {},
   "outputs": [
    {
     "data": {
      "text/plain": [
       "98"
      ]
     },
     "execution_count": 16,
     "metadata": {},
     "output_type": "execute_result"
    }
   ],
   "source": [
    "len(population)"
   ]
  },
  {
   "cell_type": "code",
   "execution_count": null,
   "metadata": {},
   "outputs": [],
   "source": []
  },
  {
   "cell_type": "code",
   "execution_count": null,
   "metadata": {},
   "outputs": [],
   "source": []
  }
 ],
 "metadata": {
  "kernelspec": {
   "display_name": "Python 3",
   "language": "python",
   "name": "python3"
  },
  "language_info": {
   "codemirror_mode": {
    "name": "ipython",
    "version": 3
   },
   "file_extension": ".py",
   "mimetype": "text/x-python",
   "name": "python",
   "nbconvert_exporter": "python",
   "pygments_lexer": "ipython3",
   "version": "3.7.3"
  }
 },
 "nbformat": 4,
 "nbformat_minor": 4
}
