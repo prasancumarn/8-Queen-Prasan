{
 "cells": [
  {
   "cell_type": "code",
   "execution_count": 1,
   "metadata": {},
   "outputs": [],
   "source": [
    "import requests"
   ]
  },
  {
   "cell_type": "code",
   "execution_count": 37,
   "metadata": {},
   "outputs": [
    {
     "name": "stdout",
     "output_type": "stream",
     "text": [
      "{\"No Of Attempts lapsed out of 3\": 2, \"submittedConfiguration\": [2, 4, 7, 3, 0, 6, 1, 5], \"configurationStatus\": \"Valid\", \"configurationScore\": 100.0}\n"
     ]
    }
   ],
   "source": [
    "url='https://lf8q0kx152.execute-api.us-east-2.amazonaws.com/default/computeFitnessScore'\n",
    "\n",
    "x = requests.post(url,json={\"qconfig\": \"2 4 7 3 0 6 1 5\",\"userID\":177939, \"githubLink\":\"https://github.com/prasancumarn/8-Queen-Prasan/blob/master/8_Queen_Challenge_GA.ipynb\"})\n",
    "\n",
    "print(x.text)"
   ]
  },
  {
   "cell_type": "code",
   "execution_count": null,
   "metadata": {},
   "outputs": [],
   "source": []
  }
 ],
 "metadata": {
  "kernelspec": {
   "display_name": "Python 3",
   "language": "python",
   "name": "python3"
  },
  "language_info": {
   "codemirror_mode": {
    "name": "ipython",
    "version": 3
   },
   "file_extension": ".py",
   "mimetype": "text/x-python",
   "name": "python",
   "nbconvert_exporter": "python",
   "pygments_lexer": "ipython3",
   "version": "3.7.3"
  }
 },
 "nbformat": 4,
 "nbformat_minor": 4
}
